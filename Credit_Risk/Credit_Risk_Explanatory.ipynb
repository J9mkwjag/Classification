{
 "cells": [
  {
   "cell_type": "markdown",
   "id": "9wQKuumMROgU",
   "metadata": {
    "id": "9wQKuumMROgU"
   },
   "source": [
    "Explanatory Modeling for German Credit Data"
   ]
  },
  {
   "cell_type": "markdown",
   "id": "f33b09ef-97fd-47a6-8f26-5ae71c5d44b2",
   "metadata": {},
   "source": [
    "Data pulled from UCI Machine Learning Repository: https://archive.ics.uci.edu/dataset/144/statlog+german+credit+data\n",
    "\n",
    "Credits:\n",
    "Hofmann,Hans. (1994). Statlog (German Credit Data). UCI Machine Learning Repository. https://doi.org/10.24432/C5NC77."
   ]
  },
  {
   "cell_type": "markdown",
   "id": "vfBlD63IM1MV",
   "metadata": {
    "id": "vfBlD63IM1MV"
   },
   "source": [
    "# Setup"
   ]
  },
  {
   "cell_type": "markdown",
   "id": "oplL0Fk5NIp2",
   "metadata": {
    "id": "oplL0Fk5NIp2"
   },
   "source": [
    "## Load Libraries"
   ]
  },
  {
   "cell_type": "code",
   "execution_count": 31,
   "id": "02f55d80-aa81-4e85-a8d0-12b5bff4987a",
   "metadata": {
    "id": "02f55d80-aa81-4e85-a8d0-12b5bff4987a"
   },
   "outputs": [],
   "source": [
    "from ucimlrepo import fetch_ucirepo\n",
    "\n",
    "# General\n",
    "import pandas as pd\n",
    "import numpy as np\n",
    "import pylab as py\n",
    "\n",
    "# Visualizations\n",
    "from matplotlib import pyplot as plt\n",
    "import seaborn as sns\n",
    "import sweetviz as sv\n",
    "\n",
    "# Preprocessing\n",
    "from sklearn.model_selection import train_test_split\n",
    "from sklearn.preprocessing import OneHotEncoder\n",
    "\n",
    "# Statistical Tests\n",
    "from scipy.stats import chi2_contingency\n",
    "import statsmodels.api as sma\n",
    "import statsmodels as sm\n",
    "import scipy.stats as stats\n",
    "import scipy as sp\n",
    "\n",
    "# Statsmodels\n",
    "from statsmodels.genmod.families import Binomial\n",
    "from statsmodels.genmod.generalized_linear_model import GLM"
   ]
  },
  {
   "cell_type": "markdown",
   "id": "p-MYbcvnNUEn",
   "metadata": {
    "id": "p-MYbcvnNUEn"
   },
   "source": [
    "## Load Dataset"
   ]
  },
  {
   "cell_type": "code",
   "execution_count": 2,
   "id": "72643c26-afde-4bef-98b2-fe6193a48b56",
   "metadata": {
    "colab": {
     "base_uri": "https://localhost:8080/",
     "height": 412
    },
    "id": "72643c26-afde-4bef-98b2-fe6193a48b56",
    "outputId": "a4a566ce-32fa-48d1-b20a-9bc9d4b03443"
   },
   "outputs": [
    {
     "data": {
      "text/html": [
       "<div>\n",
       "<style scoped>\n",
       "    .dataframe tbody tr th:only-of-type {\n",
       "        vertical-align: middle;\n",
       "    }\n",
       "\n",
       "    .dataframe tbody tr th {\n",
       "        vertical-align: top;\n",
       "    }\n",
       "\n",
       "    .dataframe thead th {\n",
       "        text-align: right;\n",
       "    }\n",
       "</style>\n",
       "<table border=\"1\" class=\"dataframe\">\n",
       "  <thead>\n",
       "    <tr style=\"text-align: right;\">\n",
       "      <th></th>\n",
       "      <th>Attribute1</th>\n",
       "      <th>Attribute2</th>\n",
       "      <th>Attribute3</th>\n",
       "      <th>Attribute4</th>\n",
       "      <th>Attribute5</th>\n",
       "      <th>Attribute6</th>\n",
       "      <th>Attribute7</th>\n",
       "      <th>Attribute8</th>\n",
       "      <th>Attribute9</th>\n",
       "      <th>Attribute10</th>\n",
       "      <th>...</th>\n",
       "      <th>Attribute12</th>\n",
       "      <th>Attribute13</th>\n",
       "      <th>Attribute14</th>\n",
       "      <th>Attribute15</th>\n",
       "      <th>Attribute16</th>\n",
       "      <th>Attribute17</th>\n",
       "      <th>Attribute18</th>\n",
       "      <th>Attribute19</th>\n",
       "      <th>Attribute20</th>\n",
       "      <th>class</th>\n",
       "    </tr>\n",
       "  </thead>\n",
       "  <tbody>\n",
       "    <tr>\n",
       "      <th>0</th>\n",
       "      <td>A11</td>\n",
       "      <td>6</td>\n",
       "      <td>A34</td>\n",
       "      <td>A43</td>\n",
       "      <td>1169</td>\n",
       "      <td>A65</td>\n",
       "      <td>A75</td>\n",
       "      <td>4</td>\n",
       "      <td>A93</td>\n",
       "      <td>A101</td>\n",
       "      <td>...</td>\n",
       "      <td>A121</td>\n",
       "      <td>67</td>\n",
       "      <td>A143</td>\n",
       "      <td>A152</td>\n",
       "      <td>2</td>\n",
       "      <td>A173</td>\n",
       "      <td>1</td>\n",
       "      <td>A192</td>\n",
       "      <td>A201</td>\n",
       "      <td>1</td>\n",
       "    </tr>\n",
       "    <tr>\n",
       "      <th>1</th>\n",
       "      <td>A12</td>\n",
       "      <td>48</td>\n",
       "      <td>A32</td>\n",
       "      <td>A43</td>\n",
       "      <td>5951</td>\n",
       "      <td>A61</td>\n",
       "      <td>A73</td>\n",
       "      <td>2</td>\n",
       "      <td>A92</td>\n",
       "      <td>A101</td>\n",
       "      <td>...</td>\n",
       "      <td>A121</td>\n",
       "      <td>22</td>\n",
       "      <td>A143</td>\n",
       "      <td>A152</td>\n",
       "      <td>1</td>\n",
       "      <td>A173</td>\n",
       "      <td>1</td>\n",
       "      <td>A191</td>\n",
       "      <td>A201</td>\n",
       "      <td>2</td>\n",
       "    </tr>\n",
       "    <tr>\n",
       "      <th>2</th>\n",
       "      <td>A14</td>\n",
       "      <td>12</td>\n",
       "      <td>A34</td>\n",
       "      <td>A46</td>\n",
       "      <td>2096</td>\n",
       "      <td>A61</td>\n",
       "      <td>A74</td>\n",
       "      <td>2</td>\n",
       "      <td>A93</td>\n",
       "      <td>A101</td>\n",
       "      <td>...</td>\n",
       "      <td>A121</td>\n",
       "      <td>49</td>\n",
       "      <td>A143</td>\n",
       "      <td>A152</td>\n",
       "      <td>1</td>\n",
       "      <td>A172</td>\n",
       "      <td>2</td>\n",
       "      <td>A191</td>\n",
       "      <td>A201</td>\n",
       "      <td>1</td>\n",
       "    </tr>\n",
       "    <tr>\n",
       "      <th>3</th>\n",
       "      <td>A11</td>\n",
       "      <td>42</td>\n",
       "      <td>A32</td>\n",
       "      <td>A42</td>\n",
       "      <td>7882</td>\n",
       "      <td>A61</td>\n",
       "      <td>A74</td>\n",
       "      <td>2</td>\n",
       "      <td>A93</td>\n",
       "      <td>A103</td>\n",
       "      <td>...</td>\n",
       "      <td>A122</td>\n",
       "      <td>45</td>\n",
       "      <td>A143</td>\n",
       "      <td>A153</td>\n",
       "      <td>1</td>\n",
       "      <td>A173</td>\n",
       "      <td>2</td>\n",
       "      <td>A191</td>\n",
       "      <td>A201</td>\n",
       "      <td>1</td>\n",
       "    </tr>\n",
       "    <tr>\n",
       "      <th>4</th>\n",
       "      <td>A11</td>\n",
       "      <td>24</td>\n",
       "      <td>A33</td>\n",
       "      <td>A40</td>\n",
       "      <td>4870</td>\n",
       "      <td>A61</td>\n",
       "      <td>A73</td>\n",
       "      <td>3</td>\n",
       "      <td>A93</td>\n",
       "      <td>A101</td>\n",
       "      <td>...</td>\n",
       "      <td>A124</td>\n",
       "      <td>53</td>\n",
       "      <td>A143</td>\n",
       "      <td>A153</td>\n",
       "      <td>2</td>\n",
       "      <td>A173</td>\n",
       "      <td>2</td>\n",
       "      <td>A191</td>\n",
       "      <td>A201</td>\n",
       "      <td>2</td>\n",
       "    </tr>\n",
       "    <tr>\n",
       "      <th>5</th>\n",
       "      <td>A14</td>\n",
       "      <td>36</td>\n",
       "      <td>A32</td>\n",
       "      <td>A46</td>\n",
       "      <td>9055</td>\n",
       "      <td>A65</td>\n",
       "      <td>A73</td>\n",
       "      <td>2</td>\n",
       "      <td>A93</td>\n",
       "      <td>A101</td>\n",
       "      <td>...</td>\n",
       "      <td>A124</td>\n",
       "      <td>35</td>\n",
       "      <td>A143</td>\n",
       "      <td>A153</td>\n",
       "      <td>1</td>\n",
       "      <td>A172</td>\n",
       "      <td>2</td>\n",
       "      <td>A192</td>\n",
       "      <td>A201</td>\n",
       "      <td>1</td>\n",
       "    </tr>\n",
       "    <tr>\n",
       "      <th>6</th>\n",
       "      <td>A14</td>\n",
       "      <td>24</td>\n",
       "      <td>A32</td>\n",
       "      <td>A42</td>\n",
       "      <td>2835</td>\n",
       "      <td>A63</td>\n",
       "      <td>A75</td>\n",
       "      <td>3</td>\n",
       "      <td>A93</td>\n",
       "      <td>A101</td>\n",
       "      <td>...</td>\n",
       "      <td>A122</td>\n",
       "      <td>53</td>\n",
       "      <td>A143</td>\n",
       "      <td>A152</td>\n",
       "      <td>1</td>\n",
       "      <td>A173</td>\n",
       "      <td>1</td>\n",
       "      <td>A191</td>\n",
       "      <td>A201</td>\n",
       "      <td>1</td>\n",
       "    </tr>\n",
       "    <tr>\n",
       "      <th>7</th>\n",
       "      <td>A12</td>\n",
       "      <td>36</td>\n",
       "      <td>A32</td>\n",
       "      <td>A41</td>\n",
       "      <td>6948</td>\n",
       "      <td>A61</td>\n",
       "      <td>A73</td>\n",
       "      <td>2</td>\n",
       "      <td>A93</td>\n",
       "      <td>A101</td>\n",
       "      <td>...</td>\n",
       "      <td>A123</td>\n",
       "      <td>35</td>\n",
       "      <td>A143</td>\n",
       "      <td>A151</td>\n",
       "      <td>1</td>\n",
       "      <td>A174</td>\n",
       "      <td>1</td>\n",
       "      <td>A192</td>\n",
       "      <td>A201</td>\n",
       "      <td>1</td>\n",
       "    </tr>\n",
       "    <tr>\n",
       "      <th>8</th>\n",
       "      <td>A14</td>\n",
       "      <td>12</td>\n",
       "      <td>A32</td>\n",
       "      <td>A43</td>\n",
       "      <td>3059</td>\n",
       "      <td>A64</td>\n",
       "      <td>A74</td>\n",
       "      <td>2</td>\n",
       "      <td>A91</td>\n",
       "      <td>A101</td>\n",
       "      <td>...</td>\n",
       "      <td>A121</td>\n",
       "      <td>61</td>\n",
       "      <td>A143</td>\n",
       "      <td>A152</td>\n",
       "      <td>1</td>\n",
       "      <td>A172</td>\n",
       "      <td>1</td>\n",
       "      <td>A191</td>\n",
       "      <td>A201</td>\n",
       "      <td>1</td>\n",
       "    </tr>\n",
       "    <tr>\n",
       "      <th>9</th>\n",
       "      <td>A12</td>\n",
       "      <td>30</td>\n",
       "      <td>A34</td>\n",
       "      <td>A40</td>\n",
       "      <td>5234</td>\n",
       "      <td>A61</td>\n",
       "      <td>A71</td>\n",
       "      <td>4</td>\n",
       "      <td>A94</td>\n",
       "      <td>A101</td>\n",
       "      <td>...</td>\n",
       "      <td>A123</td>\n",
       "      <td>28</td>\n",
       "      <td>A143</td>\n",
       "      <td>A152</td>\n",
       "      <td>2</td>\n",
       "      <td>A174</td>\n",
       "      <td>1</td>\n",
       "      <td>A191</td>\n",
       "      <td>A201</td>\n",
       "      <td>2</td>\n",
       "    </tr>\n",
       "  </tbody>\n",
       "</table>\n",
       "<p>10 rows × 21 columns</p>\n",
       "</div>"
      ],
      "text/plain": [
       "  Attribute1  Attribute2 Attribute3 Attribute4  Attribute5 Attribute6  \\\n",
       "0        A11           6        A34        A43        1169        A65   \n",
       "1        A12          48        A32        A43        5951        A61   \n",
       "2        A14          12        A34        A46        2096        A61   \n",
       "3        A11          42        A32        A42        7882        A61   \n",
       "4        A11          24        A33        A40        4870        A61   \n",
       "5        A14          36        A32        A46        9055        A65   \n",
       "6        A14          24        A32        A42        2835        A63   \n",
       "7        A12          36        A32        A41        6948        A61   \n",
       "8        A14          12        A32        A43        3059        A64   \n",
       "9        A12          30        A34        A40        5234        A61   \n",
       "\n",
       "  Attribute7  Attribute8 Attribute9 Attribute10  ...  Attribute12 Attribute13  \\\n",
       "0        A75           4        A93        A101  ...         A121          67   \n",
       "1        A73           2        A92        A101  ...         A121          22   \n",
       "2        A74           2        A93        A101  ...         A121          49   \n",
       "3        A74           2        A93        A103  ...         A122          45   \n",
       "4        A73           3        A93        A101  ...         A124          53   \n",
       "5        A73           2        A93        A101  ...         A124          35   \n",
       "6        A75           3        A93        A101  ...         A122          53   \n",
       "7        A73           2        A93        A101  ...         A123          35   \n",
       "8        A74           2        A91        A101  ...         A121          61   \n",
       "9        A71           4        A94        A101  ...         A123          28   \n",
       "\n",
       "   Attribute14 Attribute15 Attribute16  Attribute17 Attribute18  Attribute19  \\\n",
       "0         A143        A152           2         A173           1         A192   \n",
       "1         A143        A152           1         A173           1         A191   \n",
       "2         A143        A152           1         A172           2         A191   \n",
       "3         A143        A153           1         A173           2         A191   \n",
       "4         A143        A153           2         A173           2         A191   \n",
       "5         A143        A153           1         A172           2         A192   \n",
       "6         A143        A152           1         A173           1         A191   \n",
       "7         A143        A151           1         A174           1         A192   \n",
       "8         A143        A152           1         A172           1         A191   \n",
       "9         A143        A152           2         A174           1         A191   \n",
       "\n",
       "  Attribute20 class  \n",
       "0        A201     1  \n",
       "1        A201     2  \n",
       "2        A201     1  \n",
       "3        A201     1  \n",
       "4        A201     2  \n",
       "5        A201     1  \n",
       "6        A201     1  \n",
       "7        A201     1  \n",
       "8        A201     1  \n",
       "9        A201     2  \n",
       "\n",
       "[10 rows x 21 columns]"
      ]
     },
     "execution_count": 2,
     "metadata": {},
     "output_type": "execute_result"
    }
   ],
   "source": [
    "# fetch dataset\n",
    "statlog_german_credit_data = fetch_ucirepo(id = 144)\n",
    "\n",
    "# Create two seperate pandas dataframe for feature and target variables\n",
    "X = statlog_german_credit_data.data.features\n",
    "y = statlog_german_credit_data.data.targets\n",
    "\n",
    "# Combine the features and target together\n",
    "df = pd.concat([X, y], axis = 1)\n",
    "df.head(10)"
   ]
  },
  {
   "cell_type": "markdown",
   "id": "kzZ742W8VA5z",
   "metadata": {
    "id": "kzZ742W8VA5z"
   },
   "source": [
    "## Data Dictionary"
   ]
  },
  {
   "cell_type": "code",
   "execution_count": 3,
   "id": "aCLE3t89VOWm",
   "metadata": {
    "colab": {
     "base_uri": "https://localhost:8080/",
     "height": 795
    },
    "id": "aCLE3t89VOWm",
    "outputId": "e97afcff-91bb-4d03-e905-9dd467146f1c"
   },
   "outputs": [
    {
     "data": {
      "text/html": [
       "<div>\n",
       "<style scoped>\n",
       "    .dataframe tbody tr th:only-of-type {\n",
       "        vertical-align: middle;\n",
       "    }\n",
       "\n",
       "    .dataframe tbody tr th {\n",
       "        vertical-align: top;\n",
       "    }\n",
       "\n",
       "    .dataframe thead th {\n",
       "        text-align: right;\n",
       "    }\n",
       "</style>\n",
       "<table border=\"1\" class=\"dataframe\">\n",
       "  <thead>\n",
       "    <tr style=\"text-align: right;\">\n",
       "      <th></th>\n",
       "      <th>name</th>\n",
       "      <th>role</th>\n",
       "      <th>type</th>\n",
       "      <th>demographic</th>\n",
       "      <th>description</th>\n",
       "      <th>units</th>\n",
       "      <th>missing_values</th>\n",
       "    </tr>\n",
       "  </thead>\n",
       "  <tbody>\n",
       "    <tr>\n",
       "      <th>0</th>\n",
       "      <td>Attribute1</td>\n",
       "      <td>Feature</td>\n",
       "      <td>Categorical</td>\n",
       "      <td>None</td>\n",
       "      <td>Status of existing checking account</td>\n",
       "      <td>None</td>\n",
       "      <td>no</td>\n",
       "    </tr>\n",
       "    <tr>\n",
       "      <th>1</th>\n",
       "      <td>Attribute2</td>\n",
       "      <td>Feature</td>\n",
       "      <td>Integer</td>\n",
       "      <td>None</td>\n",
       "      <td>Duration</td>\n",
       "      <td>months</td>\n",
       "      <td>no</td>\n",
       "    </tr>\n",
       "    <tr>\n",
       "      <th>2</th>\n",
       "      <td>Attribute3</td>\n",
       "      <td>Feature</td>\n",
       "      <td>Categorical</td>\n",
       "      <td>None</td>\n",
       "      <td>Credit history</td>\n",
       "      <td>None</td>\n",
       "      <td>no</td>\n",
       "    </tr>\n",
       "    <tr>\n",
       "      <th>3</th>\n",
       "      <td>Attribute4</td>\n",
       "      <td>Feature</td>\n",
       "      <td>Categorical</td>\n",
       "      <td>None</td>\n",
       "      <td>Purpose</td>\n",
       "      <td>None</td>\n",
       "      <td>no</td>\n",
       "    </tr>\n",
       "    <tr>\n",
       "      <th>4</th>\n",
       "      <td>Attribute5</td>\n",
       "      <td>Feature</td>\n",
       "      <td>Integer</td>\n",
       "      <td>None</td>\n",
       "      <td>Credit amount</td>\n",
       "      <td>None</td>\n",
       "      <td>no</td>\n",
       "    </tr>\n",
       "    <tr>\n",
       "      <th>5</th>\n",
       "      <td>Attribute6</td>\n",
       "      <td>Feature</td>\n",
       "      <td>Categorical</td>\n",
       "      <td>None</td>\n",
       "      <td>Savings account/bonds</td>\n",
       "      <td>None</td>\n",
       "      <td>no</td>\n",
       "    </tr>\n",
       "    <tr>\n",
       "      <th>6</th>\n",
       "      <td>Attribute7</td>\n",
       "      <td>Feature</td>\n",
       "      <td>Categorical</td>\n",
       "      <td>Other</td>\n",
       "      <td>Present employment since</td>\n",
       "      <td>None</td>\n",
       "      <td>no</td>\n",
       "    </tr>\n",
       "    <tr>\n",
       "      <th>7</th>\n",
       "      <td>Attribute8</td>\n",
       "      <td>Feature</td>\n",
       "      <td>Integer</td>\n",
       "      <td>None</td>\n",
       "      <td>Installment rate in percentage of disposable i...</td>\n",
       "      <td>None</td>\n",
       "      <td>no</td>\n",
       "    </tr>\n",
       "    <tr>\n",
       "      <th>8</th>\n",
       "      <td>Attribute9</td>\n",
       "      <td>Feature</td>\n",
       "      <td>Categorical</td>\n",
       "      <td>Marital Status</td>\n",
       "      <td>Personal status and sex</td>\n",
       "      <td>None</td>\n",
       "      <td>no</td>\n",
       "    </tr>\n",
       "    <tr>\n",
       "      <th>9</th>\n",
       "      <td>Attribute10</td>\n",
       "      <td>Feature</td>\n",
       "      <td>Categorical</td>\n",
       "      <td>None</td>\n",
       "      <td>Other debtors / guarantors</td>\n",
       "      <td>None</td>\n",
       "      <td>no</td>\n",
       "    </tr>\n",
       "    <tr>\n",
       "      <th>10</th>\n",
       "      <td>Attribute11</td>\n",
       "      <td>Feature</td>\n",
       "      <td>Integer</td>\n",
       "      <td>None</td>\n",
       "      <td>Present residence since</td>\n",
       "      <td>None</td>\n",
       "      <td>no</td>\n",
       "    </tr>\n",
       "    <tr>\n",
       "      <th>11</th>\n",
       "      <td>Attribute12</td>\n",
       "      <td>Feature</td>\n",
       "      <td>Categorical</td>\n",
       "      <td>None</td>\n",
       "      <td>Property</td>\n",
       "      <td>None</td>\n",
       "      <td>no</td>\n",
       "    </tr>\n",
       "    <tr>\n",
       "      <th>12</th>\n",
       "      <td>Attribute13</td>\n",
       "      <td>Feature</td>\n",
       "      <td>Integer</td>\n",
       "      <td>Age</td>\n",
       "      <td>Age</td>\n",
       "      <td>years</td>\n",
       "      <td>no</td>\n",
       "    </tr>\n",
       "    <tr>\n",
       "      <th>13</th>\n",
       "      <td>Attribute14</td>\n",
       "      <td>Feature</td>\n",
       "      <td>Categorical</td>\n",
       "      <td>None</td>\n",
       "      <td>Other installment plans</td>\n",
       "      <td>None</td>\n",
       "      <td>no</td>\n",
       "    </tr>\n",
       "    <tr>\n",
       "      <th>14</th>\n",
       "      <td>Attribute15</td>\n",
       "      <td>Feature</td>\n",
       "      <td>Categorical</td>\n",
       "      <td>Other</td>\n",
       "      <td>Housing</td>\n",
       "      <td>None</td>\n",
       "      <td>no</td>\n",
       "    </tr>\n",
       "    <tr>\n",
       "      <th>15</th>\n",
       "      <td>Attribute16</td>\n",
       "      <td>Feature</td>\n",
       "      <td>Integer</td>\n",
       "      <td>None</td>\n",
       "      <td>Number of existing credits at this bank</td>\n",
       "      <td>None</td>\n",
       "      <td>no</td>\n",
       "    </tr>\n",
       "    <tr>\n",
       "      <th>16</th>\n",
       "      <td>Attribute17</td>\n",
       "      <td>Feature</td>\n",
       "      <td>Categorical</td>\n",
       "      <td>Occupation</td>\n",
       "      <td>Job</td>\n",
       "      <td>None</td>\n",
       "      <td>no</td>\n",
       "    </tr>\n",
       "    <tr>\n",
       "      <th>17</th>\n",
       "      <td>Attribute18</td>\n",
       "      <td>Feature</td>\n",
       "      <td>Integer</td>\n",
       "      <td>None</td>\n",
       "      <td>Number of people being liable to provide maint...</td>\n",
       "      <td>None</td>\n",
       "      <td>no</td>\n",
       "    </tr>\n",
       "    <tr>\n",
       "      <th>18</th>\n",
       "      <td>Attribute19</td>\n",
       "      <td>Feature</td>\n",
       "      <td>Binary</td>\n",
       "      <td>None</td>\n",
       "      <td>Telephone</td>\n",
       "      <td>None</td>\n",
       "      <td>no</td>\n",
       "    </tr>\n",
       "    <tr>\n",
       "      <th>19</th>\n",
       "      <td>Attribute20</td>\n",
       "      <td>Feature</td>\n",
       "      <td>Binary</td>\n",
       "      <td>Other</td>\n",
       "      <td>foreign worker</td>\n",
       "      <td>None</td>\n",
       "      <td>no</td>\n",
       "    </tr>\n",
       "    <tr>\n",
       "      <th>20</th>\n",
       "      <td>class</td>\n",
       "      <td>Target</td>\n",
       "      <td>Binary</td>\n",
       "      <td>None</td>\n",
       "      <td>1 = Good, 2 = Bad</td>\n",
       "      <td>None</td>\n",
       "      <td>no</td>\n",
       "    </tr>\n",
       "  </tbody>\n",
       "</table>\n",
       "</div>"
      ],
      "text/plain": [
       "           name     role         type     demographic  \\\n",
       "0    Attribute1  Feature  Categorical            None   \n",
       "1    Attribute2  Feature      Integer            None   \n",
       "2    Attribute3  Feature  Categorical            None   \n",
       "3    Attribute4  Feature  Categorical            None   \n",
       "4    Attribute5  Feature      Integer            None   \n",
       "5    Attribute6  Feature  Categorical            None   \n",
       "6    Attribute7  Feature  Categorical           Other   \n",
       "7    Attribute8  Feature      Integer            None   \n",
       "8    Attribute9  Feature  Categorical  Marital Status   \n",
       "9   Attribute10  Feature  Categorical            None   \n",
       "10  Attribute11  Feature      Integer            None   \n",
       "11  Attribute12  Feature  Categorical            None   \n",
       "12  Attribute13  Feature      Integer             Age   \n",
       "13  Attribute14  Feature  Categorical            None   \n",
       "14  Attribute15  Feature  Categorical           Other   \n",
       "15  Attribute16  Feature      Integer            None   \n",
       "16  Attribute17  Feature  Categorical      Occupation   \n",
       "17  Attribute18  Feature      Integer            None   \n",
       "18  Attribute19  Feature       Binary            None   \n",
       "19  Attribute20  Feature       Binary           Other   \n",
       "20        class   Target       Binary            None   \n",
       "\n",
       "                                          description   units missing_values  \n",
       "0                 Status of existing checking account    None             no  \n",
       "1                                            Duration  months             no  \n",
       "2                                      Credit history    None             no  \n",
       "3                                             Purpose    None             no  \n",
       "4                                       Credit amount    None             no  \n",
       "5                               Savings account/bonds    None             no  \n",
       "6                            Present employment since    None             no  \n",
       "7   Installment rate in percentage of disposable i...    None             no  \n",
       "8                             Personal status and sex    None             no  \n",
       "9                          Other debtors / guarantors    None             no  \n",
       "10                            Present residence since    None             no  \n",
       "11                                           Property    None             no  \n",
       "12                                                Age   years             no  \n",
       "13                            Other installment plans    None             no  \n",
       "14                                            Housing    None             no  \n",
       "15            Number of existing credits at this bank    None             no  \n",
       "16                                                Job    None             no  \n",
       "17  Number of people being liable to provide maint...    None             no  \n",
       "18                                          Telephone    None             no  \n",
       "19                                     foreign worker    None             no  \n",
       "20                                  1 = Good, 2 = Bad    None             no  "
      ]
     },
     "execution_count": 3,
     "metadata": {},
     "output_type": "execute_result"
    }
   ],
   "source": [
    "data_dic = pd.DataFrame(statlog_german_credit_data.variables)\n",
    "\n",
    "cat_vars = data_dic[data_dic[\"type\"] == \"Categorical\"][\"name\"].values\n",
    "\n",
    "bin_vars = data_dic[(data_dic[\"type\"] == \"Binary\") & (data_dic[\"role\"] == \"Feature\")][\"name\"].values\n",
    "\n",
    "cont_vars = data_dic[data_dic[\"type\"] == \"Integer\"][\"name\"].values\n",
    "\n",
    "data_dic"
   ]
  },
  {
   "cell_type": "code",
   "execution_count": null,
   "id": "def95dcb-4868-4384-8a3d-99d7ac239576",
   "metadata": {},
   "outputs": [],
   "source": [
    "cat_vars"
   ]
  },
  {
   "cell_type": "code",
   "execution_count": null,
   "id": "14692f8d-1a14-46f1-be65-0f010fabd7db",
   "metadata": {},
   "outputs": [],
   "source": [
    "bin_vars"
   ]
  },
  {
   "cell_type": "code",
   "execution_count": null,
   "id": "5a9cf98e-c467-4323-8e1a-71c3d561d82f",
   "metadata": {},
   "outputs": [],
   "source": [
    "not_cont"
   ]
  },
  {
   "cell_type": "code",
   "execution_count": null,
   "id": "9647d892-9c18-4d3e-ba53-67698685a07a",
   "metadata": {},
   "outputs": [],
   "source": [
    "np.asarray(not_cont, dtype = \"object\")"
   ]
  },
  {
   "cell_type": "code",
   "execution_count": 4,
   "id": "a0bfedc4-e0fa-47c7-9263-22a8c034f031",
   "metadata": {},
   "outputs": [
    {
     "name": "stdout",
     "output_type": "stream",
     "text": [
      "Attribute2 33\n",
      "Attribute5 921\n",
      "Attribute8 4\n",
      "Attribute11 4\n",
      "Attribute13 53\n",
      "Attribute16 4\n",
      "Attribute18 2\n"
     ]
    }
   ],
   "source": [
    "### Check Continuous Variables to see if they have at least 10 distinct values\n",
    "not_cont = []\n",
    "is_cont = []\n",
    "for i in cont_vars:\n",
    "    var_unique = len(np.unique(df[i]))\n",
    "    print(i, var_unique)\n",
    "    if var_unique < 10:\n",
    "        not_cont.append(i)\n",
    "    else:\n",
    "        is_cont.append(i)"
   ]
  },
  {
   "cell_type": "code",
   "execution_count": null,
   "id": "47791baa-a45a-4229-be5a-6371c3d68d3c",
   "metadata": {},
   "outputs": [],
   "source": [
    "np.append(cat_vars, [bin_vars])"
   ]
  },
  {
   "cell_type": "code",
   "execution_count": null,
   "id": "b3200d42-67b3-437e-9ae9-1a626753266e",
   "metadata": {},
   "outputs": [],
   "source": [
    "np.append(cat_vars, [not_cont])"
   ]
  },
  {
   "cell_type": "code",
   "execution_count": null,
   "id": "176cd9a2-fcb8-4e11-a0b8-680fc1068bf9",
   "metadata": {},
   "outputs": [],
   "source": [
    "cat_vars.shape"
   ]
  },
  {
   "cell_type": "code",
   "execution_count": null,
   "id": "b7a35f87-11e5-4927-a8d1-51365db2b61f",
   "metadata": {},
   "outputs": [],
   "source": [
    "np.append(cat_vars, [bin_vars, not_cont])"
   ]
  },
  {
   "cell_type": "code",
   "execution_count": 5,
   "id": "aab62163-5fd0-479d-9bc7-5875f2558015",
   "metadata": {},
   "outputs": [
    {
     "name": "stdout",
     "output_type": "stream",
     "text": [
      "['Attribute1' 'Attribute3' 'Attribute4' 'Attribute6' 'Attribute7'\n",
      " 'Attribute9' 'Attribute10' 'Attribute12' 'Attribute14' 'Attribute15'\n",
      " 'Attribute17' 'Attribute19' 'Attribute20' 'Attribute8' 'Attribute11'\n",
      " 'Attribute16' 'Attribute18']\n",
      "['Attribute2', 'Attribute5', 'Attribute13']\n"
     ]
    }
   ],
   "source": [
    "# Seperate Features by type\n",
    "\n",
    "categorical_features = np.append(cat_vars, [bin_vars])\n",
    "categorical_features = np.append(categorical_features, [not_cont])\n",
    "\n",
    "print(categorical_features)\n",
    "\n",
    "numeric_features = is_cont\n",
    "print(numeric_features)"
   ]
  },
  {
   "cell_type": "markdown",
   "id": "p8x8hGqOYA5x",
   "metadata": {
    "id": "p8x8hGqOYA5x",
    "tags": []
   },
   "source": [
    "# Preprocessing & Cleanup"
   ]
  },
  {
   "cell_type": "markdown",
   "id": "27885d49-72d0-474a-a25e-9a402032dd35",
   "metadata": {
    "tags": []
   },
   "source": [
    "## Univariate EDA"
   ]
  },
  {
   "cell_type": "markdown",
   "id": "xQwJZmqrZfOl",
   "metadata": {
    "id": "xQwJZmqrZfOl"
   },
   "source": [
    "### Missing Values"
   ]
  },
  {
   "cell_type": "code",
   "execution_count": 6,
   "id": "VDOwAapFYc_q",
   "metadata": {
    "colab": {
     "base_uri": "https://localhost:8080/",
     "height": 708
    },
    "id": "VDOwAapFYc_q",
    "outputId": "d50503b2-7f91-4c2c-9044-63ad456012de"
   },
   "outputs": [
    {
     "data": {
      "text/html": [
       "<div>\n",
       "<style scoped>\n",
       "    .dataframe tbody tr th:only-of-type {\n",
       "        vertical-align: middle;\n",
       "    }\n",
       "\n",
       "    .dataframe tbody tr th {\n",
       "        vertical-align: top;\n",
       "    }\n",
       "\n",
       "    .dataframe thead th {\n",
       "        text-align: right;\n",
       "    }\n",
       "</style>\n",
       "<table border=\"1\" class=\"dataframe\">\n",
       "  <thead>\n",
       "    <tr style=\"text-align: right;\">\n",
       "      <th></th>\n",
       "      <th>name</th>\n",
       "      <th>role</th>\n",
       "      <th>type</th>\n",
       "      <th>demographic</th>\n",
       "      <th>description</th>\n",
       "      <th>units</th>\n",
       "      <th>missing_values</th>\n",
       "    </tr>\n",
       "  </thead>\n",
       "  <tbody>\n",
       "    <tr>\n",
       "      <th>0</th>\n",
       "      <td>Attribute1</td>\n",
       "      <td>Feature</td>\n",
       "      <td>Categorical</td>\n",
       "      <td>None</td>\n",
       "      <td>Status of existing checking account</td>\n",
       "      <td>None</td>\n",
       "      <td>no</td>\n",
       "    </tr>\n",
       "    <tr>\n",
       "      <th>1</th>\n",
       "      <td>Attribute2</td>\n",
       "      <td>Feature</td>\n",
       "      <td>Integer</td>\n",
       "      <td>None</td>\n",
       "      <td>Duration</td>\n",
       "      <td>months</td>\n",
       "      <td>no</td>\n",
       "    </tr>\n",
       "    <tr>\n",
       "      <th>2</th>\n",
       "      <td>Attribute3</td>\n",
       "      <td>Feature</td>\n",
       "      <td>Categorical</td>\n",
       "      <td>None</td>\n",
       "      <td>Credit history</td>\n",
       "      <td>None</td>\n",
       "      <td>no</td>\n",
       "    </tr>\n",
       "    <tr>\n",
       "      <th>3</th>\n",
       "      <td>Attribute4</td>\n",
       "      <td>Feature</td>\n",
       "      <td>Categorical</td>\n",
       "      <td>None</td>\n",
       "      <td>Purpose</td>\n",
       "      <td>None</td>\n",
       "      <td>no</td>\n",
       "    </tr>\n",
       "    <tr>\n",
       "      <th>4</th>\n",
       "      <td>Attribute5</td>\n",
       "      <td>Feature</td>\n",
       "      <td>Integer</td>\n",
       "      <td>None</td>\n",
       "      <td>Credit amount</td>\n",
       "      <td>None</td>\n",
       "      <td>no</td>\n",
       "    </tr>\n",
       "    <tr>\n",
       "      <th>5</th>\n",
       "      <td>Attribute6</td>\n",
       "      <td>Feature</td>\n",
       "      <td>Categorical</td>\n",
       "      <td>None</td>\n",
       "      <td>Savings account/bonds</td>\n",
       "      <td>None</td>\n",
       "      <td>no</td>\n",
       "    </tr>\n",
       "    <tr>\n",
       "      <th>6</th>\n",
       "      <td>Attribute7</td>\n",
       "      <td>Feature</td>\n",
       "      <td>Categorical</td>\n",
       "      <td>Other</td>\n",
       "      <td>Present employment since</td>\n",
       "      <td>None</td>\n",
       "      <td>no</td>\n",
       "    </tr>\n",
       "    <tr>\n",
       "      <th>7</th>\n",
       "      <td>Attribute8</td>\n",
       "      <td>Feature</td>\n",
       "      <td>Integer</td>\n",
       "      <td>None</td>\n",
       "      <td>Installment rate in percentage of disposable i...</td>\n",
       "      <td>None</td>\n",
       "      <td>no</td>\n",
       "    </tr>\n",
       "    <tr>\n",
       "      <th>8</th>\n",
       "      <td>Attribute9</td>\n",
       "      <td>Feature</td>\n",
       "      <td>Categorical</td>\n",
       "      <td>Marital Status</td>\n",
       "      <td>Personal status and sex</td>\n",
       "      <td>None</td>\n",
       "      <td>no</td>\n",
       "    </tr>\n",
       "    <tr>\n",
       "      <th>9</th>\n",
       "      <td>Attribute10</td>\n",
       "      <td>Feature</td>\n",
       "      <td>Categorical</td>\n",
       "      <td>None</td>\n",
       "      <td>Other debtors / guarantors</td>\n",
       "      <td>None</td>\n",
       "      <td>no</td>\n",
       "    </tr>\n",
       "    <tr>\n",
       "      <th>10</th>\n",
       "      <td>Attribute11</td>\n",
       "      <td>Feature</td>\n",
       "      <td>Integer</td>\n",
       "      <td>None</td>\n",
       "      <td>Present residence since</td>\n",
       "      <td>None</td>\n",
       "      <td>no</td>\n",
       "    </tr>\n",
       "    <tr>\n",
       "      <th>11</th>\n",
       "      <td>Attribute12</td>\n",
       "      <td>Feature</td>\n",
       "      <td>Categorical</td>\n",
       "      <td>None</td>\n",
       "      <td>Property</td>\n",
       "      <td>None</td>\n",
       "      <td>no</td>\n",
       "    </tr>\n",
       "    <tr>\n",
       "      <th>12</th>\n",
       "      <td>Attribute13</td>\n",
       "      <td>Feature</td>\n",
       "      <td>Integer</td>\n",
       "      <td>Age</td>\n",
       "      <td>Age</td>\n",
       "      <td>years</td>\n",
       "      <td>no</td>\n",
       "    </tr>\n",
       "    <tr>\n",
       "      <th>13</th>\n",
       "      <td>Attribute14</td>\n",
       "      <td>Feature</td>\n",
       "      <td>Categorical</td>\n",
       "      <td>None</td>\n",
       "      <td>Other installment plans</td>\n",
       "      <td>None</td>\n",
       "      <td>no</td>\n",
       "    </tr>\n",
       "    <tr>\n",
       "      <th>14</th>\n",
       "      <td>Attribute15</td>\n",
       "      <td>Feature</td>\n",
       "      <td>Categorical</td>\n",
       "      <td>Other</td>\n",
       "      <td>Housing</td>\n",
       "      <td>None</td>\n",
       "      <td>no</td>\n",
       "    </tr>\n",
       "    <tr>\n",
       "      <th>15</th>\n",
       "      <td>Attribute16</td>\n",
       "      <td>Feature</td>\n",
       "      <td>Integer</td>\n",
       "      <td>None</td>\n",
       "      <td>Number of existing credits at this bank</td>\n",
       "      <td>None</td>\n",
       "      <td>no</td>\n",
       "    </tr>\n",
       "    <tr>\n",
       "      <th>16</th>\n",
       "      <td>Attribute17</td>\n",
       "      <td>Feature</td>\n",
       "      <td>Categorical</td>\n",
       "      <td>Occupation</td>\n",
       "      <td>Job</td>\n",
       "      <td>None</td>\n",
       "      <td>no</td>\n",
       "    </tr>\n",
       "    <tr>\n",
       "      <th>17</th>\n",
       "      <td>Attribute18</td>\n",
       "      <td>Feature</td>\n",
       "      <td>Integer</td>\n",
       "      <td>None</td>\n",
       "      <td>Number of people being liable to provide maint...</td>\n",
       "      <td>None</td>\n",
       "      <td>no</td>\n",
       "    </tr>\n",
       "    <tr>\n",
       "      <th>18</th>\n",
       "      <td>Attribute19</td>\n",
       "      <td>Feature</td>\n",
       "      <td>Binary</td>\n",
       "      <td>None</td>\n",
       "      <td>Telephone</td>\n",
       "      <td>None</td>\n",
       "      <td>no</td>\n",
       "    </tr>\n",
       "    <tr>\n",
       "      <th>19</th>\n",
       "      <td>Attribute20</td>\n",
       "      <td>Feature</td>\n",
       "      <td>Binary</td>\n",
       "      <td>Other</td>\n",
       "      <td>foreign worker</td>\n",
       "      <td>None</td>\n",
       "      <td>no</td>\n",
       "    </tr>\n",
       "    <tr>\n",
       "      <th>20</th>\n",
       "      <td>class</td>\n",
       "      <td>Target</td>\n",
       "      <td>Binary</td>\n",
       "      <td>None</td>\n",
       "      <td>1 = Good, 2 = Bad</td>\n",
       "      <td>None</td>\n",
       "      <td>no</td>\n",
       "    </tr>\n",
       "  </tbody>\n",
       "</table>\n",
       "</div>"
      ],
      "text/plain": [
       "           name     role         type     demographic  \\\n",
       "0    Attribute1  Feature  Categorical            None   \n",
       "1    Attribute2  Feature      Integer            None   \n",
       "2    Attribute3  Feature  Categorical            None   \n",
       "3    Attribute4  Feature  Categorical            None   \n",
       "4    Attribute5  Feature      Integer            None   \n",
       "5    Attribute6  Feature  Categorical            None   \n",
       "6    Attribute7  Feature  Categorical           Other   \n",
       "7    Attribute8  Feature      Integer            None   \n",
       "8    Attribute9  Feature  Categorical  Marital Status   \n",
       "9   Attribute10  Feature  Categorical            None   \n",
       "10  Attribute11  Feature      Integer            None   \n",
       "11  Attribute12  Feature  Categorical            None   \n",
       "12  Attribute13  Feature      Integer             Age   \n",
       "13  Attribute14  Feature  Categorical            None   \n",
       "14  Attribute15  Feature  Categorical           Other   \n",
       "15  Attribute16  Feature      Integer            None   \n",
       "16  Attribute17  Feature  Categorical      Occupation   \n",
       "17  Attribute18  Feature      Integer            None   \n",
       "18  Attribute19  Feature       Binary            None   \n",
       "19  Attribute20  Feature       Binary           Other   \n",
       "20        class   Target       Binary            None   \n",
       "\n",
       "                                          description   units missing_values  \n",
       "0                 Status of existing checking account    None             no  \n",
       "1                                            Duration  months             no  \n",
       "2                                      Credit history    None             no  \n",
       "3                                             Purpose    None             no  \n",
       "4                                       Credit amount    None             no  \n",
       "5                               Savings account/bonds    None             no  \n",
       "6                            Present employment since    None             no  \n",
       "7   Installment rate in percentage of disposable i...    None             no  \n",
       "8                             Personal status and sex    None             no  \n",
       "9                          Other debtors / guarantors    None             no  \n",
       "10                            Present residence since    None             no  \n",
       "11                                           Property    None             no  \n",
       "12                                                Age   years             no  \n",
       "13                            Other installment plans    None             no  \n",
       "14                                            Housing    None             no  \n",
       "15            Number of existing credits at this bank    None             no  \n",
       "16                                                Job    None             no  \n",
       "17  Number of people being liable to provide maint...    None             no  \n",
       "18                                          Telephone    None             no  \n",
       "19                                     foreign worker    None             no  \n",
       "20                                  1 = Good, 2 = Bad    None             no  "
      ]
     },
     "execution_count": 6,
     "metadata": {},
     "output_type": "execute_result"
    }
   ],
   "source": [
    "# Check for NA's\n",
    "data_dic"
   ]
  },
  {
   "cell_type": "markdown",
   "id": "Mk5_vUzrZjFG",
   "metadata": {
    "id": "Mk5_vUzrZjFG"
   },
   "source": [
    "### Check Target Variable for Rare Event"
   ]
  },
  {
   "cell_type": "code",
   "execution_count": 7,
   "id": "MX6TjS02Wgel",
   "metadata": {
    "colab": {
     "base_uri": "https://localhost:8080/",
     "height": 143
    },
    "id": "MX6TjS02Wgel",
    "outputId": "26125793-e376-406f-ef56-4e5c638edda0"
   },
   "outputs": [
    {
     "data": {
      "text/html": [
       "<div>\n",
       "<style scoped>\n",
       "    .dataframe tbody tr th:only-of-type {\n",
       "        vertical-align: middle;\n",
       "    }\n",
       "\n",
       "    .dataframe tbody tr th {\n",
       "        vertical-align: top;\n",
       "    }\n",
       "\n",
       "    .dataframe thead th {\n",
       "        text-align: right;\n",
       "    }\n",
       "</style>\n",
       "<table border=\"1\" class=\"dataframe\">\n",
       "  <thead>\n",
       "    <tr style=\"text-align: right;\">\n",
       "      <th>col_0</th>\n",
       "      <th>prop</th>\n",
       "    </tr>\n",
       "    <tr>\n",
       "      <th>class</th>\n",
       "      <th></th>\n",
       "    </tr>\n",
       "  </thead>\n",
       "  <tbody>\n",
       "    <tr>\n",
       "      <th>1</th>\n",
       "      <td>0.7</td>\n",
       "    </tr>\n",
       "    <tr>\n",
       "      <th>2</th>\n",
       "      <td>0.3</td>\n",
       "    </tr>\n",
       "  </tbody>\n",
       "</table>\n",
       "</div>"
      ],
      "text/plain": [
       "col_0  prop\n",
       "class      \n",
       "1       0.7\n",
       "2       0.3"
      ]
     },
     "execution_count": 7,
     "metadata": {},
     "output_type": "execute_result"
    }
   ],
   "source": [
    "## Check Target Variable for Rare Event\n",
    "pd.crosstab(index = df['class'], columns = \"prop\")/pd.crosstab(index = df['class'], columns = \"prop\").sum()"
   ]
  },
  {
   "cell_type": "markdown",
   "id": "gSeSpYHDZuaJ",
   "metadata": {
    "id": "gSeSpYHDZuaJ"
   },
   "source": [
    "## Split Dataset"
   ]
  },
  {
   "cell_type": "code",
   "execution_count": 10,
   "id": "09VZ3CJ5ZxGi",
   "metadata": {
    "colab": {
     "base_uri": "https://localhost:8080/",
     "height": 574
    },
    "id": "09VZ3CJ5ZxGi",
    "outputId": "950c800a-fd62-4579-df82-9ce72de19951"
   },
   "outputs": [
    {
     "data": {
      "text/html": [
       "<div>\n",
       "<style scoped>\n",
       "    .dataframe tbody tr th:only-of-type {\n",
       "        vertical-align: middle;\n",
       "    }\n",
       "\n",
       "    .dataframe tbody tr th {\n",
       "        vertical-align: top;\n",
       "    }\n",
       "\n",
       "    .dataframe thead th {\n",
       "        text-align: right;\n",
       "    }\n",
       "</style>\n",
       "<table border=\"1\" class=\"dataframe\">\n",
       "  <thead>\n",
       "    <tr style=\"text-align: right;\">\n",
       "      <th></th>\n",
       "      <th>Attribute1</th>\n",
       "      <th>Attribute2</th>\n",
       "      <th>Attribute3</th>\n",
       "      <th>Attribute4</th>\n",
       "      <th>Attribute5</th>\n",
       "      <th>Attribute6</th>\n",
       "      <th>Attribute7</th>\n",
       "      <th>Attribute8</th>\n",
       "      <th>Attribute9</th>\n",
       "      <th>Attribute10</th>\n",
       "      <th>Attribute11</th>\n",
       "      <th>Attribute12</th>\n",
       "      <th>Attribute13</th>\n",
       "      <th>Attribute14</th>\n",
       "      <th>Attribute15</th>\n",
       "      <th>Attribute16</th>\n",
       "      <th>Attribute17</th>\n",
       "      <th>Attribute18</th>\n",
       "      <th>Attribute19</th>\n",
       "      <th>Attribute20</th>\n",
       "    </tr>\n",
       "  </thead>\n",
       "  <tbody>\n",
       "    <tr>\n",
       "      <th>860</th>\n",
       "      <td>A14</td>\n",
       "      <td>24</td>\n",
       "      <td>A34</td>\n",
       "      <td>A41</td>\n",
       "      <td>5804</td>\n",
       "      <td>A64</td>\n",
       "      <td>A73</td>\n",
       "      <td>4</td>\n",
       "      <td>A93</td>\n",
       "      <td>A101</td>\n",
       "      <td>2</td>\n",
       "      <td>A121</td>\n",
       "      <td>27</td>\n",
       "      <td>A143</td>\n",
       "      <td>A152</td>\n",
       "      <td>2</td>\n",
       "      <td>A173</td>\n",
       "      <td>1</td>\n",
       "      <td>A191</td>\n",
       "      <td>A201</td>\n",
       "    </tr>\n",
       "    <tr>\n",
       "      <th>202</th>\n",
       "      <td>A14</td>\n",
       "      <td>27</td>\n",
       "      <td>A33</td>\n",
       "      <td>A49</td>\n",
       "      <td>5117</td>\n",
       "      <td>A61</td>\n",
       "      <td>A74</td>\n",
       "      <td>3</td>\n",
       "      <td>A93</td>\n",
       "      <td>A101</td>\n",
       "      <td>4</td>\n",
       "      <td>A123</td>\n",
       "      <td>26</td>\n",
       "      <td>A143</td>\n",
       "      <td>A152</td>\n",
       "      <td>2</td>\n",
       "      <td>A173</td>\n",
       "      <td>1</td>\n",
       "      <td>A191</td>\n",
       "      <td>A201</td>\n",
       "    </tr>\n",
       "    <tr>\n",
       "      <th>580</th>\n",
       "      <td>A12</td>\n",
       "      <td>18</td>\n",
       "      <td>A34</td>\n",
       "      <td>A40</td>\n",
       "      <td>1056</td>\n",
       "      <td>A61</td>\n",
       "      <td>A75</td>\n",
       "      <td>3</td>\n",
       "      <td>A93</td>\n",
       "      <td>A103</td>\n",
       "      <td>3</td>\n",
       "      <td>A121</td>\n",
       "      <td>30</td>\n",
       "      <td>A141</td>\n",
       "      <td>A152</td>\n",
       "      <td>2</td>\n",
       "      <td>A173</td>\n",
       "      <td>1</td>\n",
       "      <td>A191</td>\n",
       "      <td>A201</td>\n",
       "    </tr>\n",
       "    <tr>\n",
       "      <th>762</th>\n",
       "      <td>A11</td>\n",
       "      <td>12</td>\n",
       "      <td>A32</td>\n",
       "      <td>A43</td>\n",
       "      <td>2214</td>\n",
       "      <td>A61</td>\n",
       "      <td>A73</td>\n",
       "      <td>4</td>\n",
       "      <td>A93</td>\n",
       "      <td>A101</td>\n",
       "      <td>3</td>\n",
       "      <td>A122</td>\n",
       "      <td>24</td>\n",
       "      <td>A143</td>\n",
       "      <td>A152</td>\n",
       "      <td>1</td>\n",
       "      <td>A172</td>\n",
       "      <td>1</td>\n",
       "      <td>A191</td>\n",
       "      <td>A201</td>\n",
       "    </tr>\n",
       "    <tr>\n",
       "      <th>390</th>\n",
       "      <td>A14</td>\n",
       "      <td>18</td>\n",
       "      <td>A32</td>\n",
       "      <td>A40</td>\n",
       "      <td>1820</td>\n",
       "      <td>A61</td>\n",
       "      <td>A73</td>\n",
       "      <td>2</td>\n",
       "      <td>A94</td>\n",
       "      <td>A101</td>\n",
       "      <td>2</td>\n",
       "      <td>A122</td>\n",
       "      <td>30</td>\n",
       "      <td>A143</td>\n",
       "      <td>A152</td>\n",
       "      <td>1</td>\n",
       "      <td>A174</td>\n",
       "      <td>1</td>\n",
       "      <td>A192</td>\n",
       "      <td>A201</td>\n",
       "    </tr>\n",
       "    <tr>\n",
       "      <th>414</th>\n",
       "      <td>A11</td>\n",
       "      <td>24</td>\n",
       "      <td>A32</td>\n",
       "      <td>A40</td>\n",
       "      <td>1381</td>\n",
       "      <td>A65</td>\n",
       "      <td>A73</td>\n",
       "      <td>4</td>\n",
       "      <td>A92</td>\n",
       "      <td>A101</td>\n",
       "      <td>2</td>\n",
       "      <td>A122</td>\n",
       "      <td>35</td>\n",
       "      <td>A143</td>\n",
       "      <td>A152</td>\n",
       "      <td>1</td>\n",
       "      <td>A173</td>\n",
       "      <td>1</td>\n",
       "      <td>A191</td>\n",
       "      <td>A201</td>\n",
       "    </tr>\n",
       "    <tr>\n",
       "      <th>436</th>\n",
       "      <td>A14</td>\n",
       "      <td>6</td>\n",
       "      <td>A32</td>\n",
       "      <td>A45</td>\n",
       "      <td>660</td>\n",
       "      <td>A63</td>\n",
       "      <td>A74</td>\n",
       "      <td>2</td>\n",
       "      <td>A94</td>\n",
       "      <td>A101</td>\n",
       "      <td>4</td>\n",
       "      <td>A121</td>\n",
       "      <td>23</td>\n",
       "      <td>A143</td>\n",
       "      <td>A151</td>\n",
       "      <td>1</td>\n",
       "      <td>A172</td>\n",
       "      <td>1</td>\n",
       "      <td>A191</td>\n",
       "      <td>A201</td>\n",
       "    </tr>\n",
       "    <tr>\n",
       "      <th>100</th>\n",
       "      <td>A14</td>\n",
       "      <td>24</td>\n",
       "      <td>A32</td>\n",
       "      <td>A40</td>\n",
       "      <td>1469</td>\n",
       "      <td>A62</td>\n",
       "      <td>A75</td>\n",
       "      <td>4</td>\n",
       "      <td>A94</td>\n",
       "      <td>A101</td>\n",
       "      <td>4</td>\n",
       "      <td>A121</td>\n",
       "      <td>41</td>\n",
       "      <td>A143</td>\n",
       "      <td>A151</td>\n",
       "      <td>1</td>\n",
       "      <td>A172</td>\n",
       "      <td>1</td>\n",
       "      <td>A191</td>\n",
       "      <td>A201</td>\n",
       "    </tr>\n",
       "    <tr>\n",
       "      <th>46</th>\n",
       "      <td>A14</td>\n",
       "      <td>36</td>\n",
       "      <td>A32</td>\n",
       "      <td>A43</td>\n",
       "      <td>2299</td>\n",
       "      <td>A63</td>\n",
       "      <td>A75</td>\n",
       "      <td>4</td>\n",
       "      <td>A93</td>\n",
       "      <td>A101</td>\n",
       "      <td>4</td>\n",
       "      <td>A123</td>\n",
       "      <td>39</td>\n",
       "      <td>A143</td>\n",
       "      <td>A152</td>\n",
       "      <td>1</td>\n",
       "      <td>A173</td>\n",
       "      <td>1</td>\n",
       "      <td>A191</td>\n",
       "      <td>A201</td>\n",
       "    </tr>\n",
       "    <tr>\n",
       "      <th>128</th>\n",
       "      <td>A12</td>\n",
       "      <td>12</td>\n",
       "      <td>A34</td>\n",
       "      <td>A41</td>\n",
       "      <td>1860</td>\n",
       "      <td>A61</td>\n",
       "      <td>A71</td>\n",
       "      <td>4</td>\n",
       "      <td>A93</td>\n",
       "      <td>A101</td>\n",
       "      <td>2</td>\n",
       "      <td>A123</td>\n",
       "      <td>34</td>\n",
       "      <td>A143</td>\n",
       "      <td>A152</td>\n",
       "      <td>2</td>\n",
       "      <td>A174</td>\n",
       "      <td>1</td>\n",
       "      <td>A192</td>\n",
       "      <td>A201</td>\n",
       "    </tr>\n",
       "  </tbody>\n",
       "</table>\n",
       "</div>"
      ],
      "text/plain": [
       "    Attribute1  Attribute2 Attribute3 Attribute4  Attribute5 Attribute6  \\\n",
       "860        A14          24        A34        A41        5804        A64   \n",
       "202        A14          27        A33        A49        5117        A61   \n",
       "580        A12          18        A34        A40        1056        A61   \n",
       "762        A11          12        A32        A43        2214        A61   \n",
       "390        A14          18        A32        A40        1820        A61   \n",
       "414        A11          24        A32        A40        1381        A65   \n",
       "436        A14           6        A32        A45         660        A63   \n",
       "100        A14          24        A32        A40        1469        A62   \n",
       "46         A14          36        A32        A43        2299        A63   \n",
       "128        A12          12        A34        A41        1860        A61   \n",
       "\n",
       "    Attribute7  Attribute8 Attribute9 Attribute10  Attribute11 Attribute12  \\\n",
       "860        A73           4        A93        A101            2        A121   \n",
       "202        A74           3        A93        A101            4        A123   \n",
       "580        A75           3        A93        A103            3        A121   \n",
       "762        A73           4        A93        A101            3        A122   \n",
       "390        A73           2        A94        A101            2        A122   \n",
       "414        A73           4        A92        A101            2        A122   \n",
       "436        A74           2        A94        A101            4        A121   \n",
       "100        A75           4        A94        A101            4        A121   \n",
       "46         A75           4        A93        A101            4        A123   \n",
       "128        A71           4        A93        A101            2        A123   \n",
       "\n",
       "     Attribute13 Attribute14 Attribute15  Attribute16 Attribute17  \\\n",
       "860           27        A143        A152            2        A173   \n",
       "202           26        A143        A152            2        A173   \n",
       "580           30        A141        A152            2        A173   \n",
       "762           24        A143        A152            1        A172   \n",
       "390           30        A143        A152            1        A174   \n",
       "414           35        A143        A152            1        A173   \n",
       "436           23        A143        A151            1        A172   \n",
       "100           41        A143        A151            1        A172   \n",
       "46            39        A143        A152            1        A173   \n",
       "128           34        A143        A152            2        A174   \n",
       "\n",
       "     Attribute18 Attribute19 Attribute20  \n",
       "860            1        A191        A201  \n",
       "202            1        A191        A201  \n",
       "580            1        A191        A201  \n",
       "762            1        A191        A201  \n",
       "390            1        A192        A201  \n",
       "414            1        A191        A201  \n",
       "436            1        A191        A201  \n",
       "100            1        A191        A201  \n",
       "46             1        A191        A201  \n",
       "128            1        A192        A201  "
      ]
     },
     "execution_count": 10,
     "metadata": {},
     "output_type": "execute_result"
    }
   ],
   "source": [
    "X_train, X_test, y_train, y_test = train_test_split(df.loc[:, df.columns != 'class'], df[\"class\"], test_size = 0.30, random_state = 12345)\n",
    "\n",
    "X_train.head(10)"
   ]
  },
  {
   "cell_type": "markdown",
   "id": "b0adb628-b692-4970-8290-82abea02ac3b",
   "metadata": {
    "tags": []
   },
   "source": [
    "## Bivariate EDA"
   ]
  },
  {
   "cell_type": "markdown",
   "id": "5UXBXXVsWa_1",
   "metadata": {
    "id": "5UXBXXVsWa_1"
   },
   "source": [
    "### Check for Seperation Issues / Convergence Problems"
   ]
  },
  {
   "cell_type": "code",
   "execution_count": 12,
   "id": "e95c491c-3e79-4c49-84f3-2dae81d0dd41",
   "metadata": {},
   "outputs": [
    {
     "data": {
      "text/plain": [
       "array(['Attribute1', 'Attribute3', 'Attribute4', 'Attribute6',\n",
       "       'Attribute7', 'Attribute9', 'Attribute10', 'Attribute12',\n",
       "       'Attribute14', 'Attribute15', 'Attribute17', 'Attribute19',\n",
       "       'Attribute20', 'Attribute8', 'Attribute11', 'Attribute16',\n",
       "       'Attribute18'], dtype=object)"
      ]
     },
     "execution_count": 12,
     "metadata": {},
     "output_type": "execute_result"
    }
   ],
   "source": [
    "categorical_features"
   ]
  },
  {
   "cell_type": "code",
   "execution_count": 13,
   "id": "3MFTO3bkXPMX",
   "metadata": {
    "colab": {
     "base_uri": "https://localhost:8080/",
     "height": 143
    },
    "id": "3MFTO3bkXPMX",
    "outputId": "f4fd3443-708b-4e65-a954-85d0683b9d4f"
   },
   "outputs": [
    {
     "name": "stdout",
     "output_type": "stream",
     "text": [
      "Attribute4\n",
      "Attribute16\n"
     ]
    }
   ],
   "source": [
    "for i in categorical_features:\n",
    "  if np.all(pd.crosstab(index = y_train, columns = X_train[i]).values) == False:\n",
    "    print(i)"
   ]
  },
  {
   "cell_type": "code",
   "execution_count": 14,
   "id": "nYSAPEXygEsy",
   "metadata": {
    "colab": {
     "base_uri": "https://localhost:8080/"
    },
    "id": "nYSAPEXygEsy",
    "outputId": "e0d1493e-107b-4b0a-d4b6-8798ded1b1d8"
   },
   "outputs": [
    {
     "data": {
      "text/html": [
       "<div>\n",
       "<style scoped>\n",
       "    .dataframe tbody tr th:only-of-type {\n",
       "        vertical-align: middle;\n",
       "    }\n",
       "\n",
       "    .dataframe tbody tr th {\n",
       "        vertical-align: top;\n",
       "    }\n",
       "\n",
       "    .dataframe thead th {\n",
       "        text-align: right;\n",
       "    }\n",
       "</style>\n",
       "<table border=\"1\" class=\"dataframe\">\n",
       "  <thead>\n",
       "    <tr style=\"text-align: right;\">\n",
       "      <th>Attribute4</th>\n",
       "      <th>A40</th>\n",
       "      <th>A41</th>\n",
       "      <th>A410</th>\n",
       "      <th>A42</th>\n",
       "      <th>A43</th>\n",
       "      <th>A44</th>\n",
       "      <th>A45</th>\n",
       "      <th>A46</th>\n",
       "      <th>A48</th>\n",
       "      <th>A49</th>\n",
       "    </tr>\n",
       "    <tr>\n",
       "      <th>class</th>\n",
       "      <th></th>\n",
       "      <th></th>\n",
       "      <th></th>\n",
       "      <th></th>\n",
       "      <th></th>\n",
       "      <th></th>\n",
       "      <th></th>\n",
       "      <th></th>\n",
       "      <th></th>\n",
       "      <th></th>\n",
       "    </tr>\n",
       "  </thead>\n",
       "  <tbody>\n",
       "    <tr>\n",
       "      <th>1</th>\n",
       "      <td>100</td>\n",
       "      <td>52</td>\n",
       "      <td>7</td>\n",
       "      <td>86</td>\n",
       "      <td>152</td>\n",
       "      <td>5</td>\n",
       "      <td>10</td>\n",
       "      <td>22</td>\n",
       "      <td>5</td>\n",
       "      <td>39</td>\n",
       "    </tr>\n",
       "    <tr>\n",
       "      <th>2</th>\n",
       "      <td>62</td>\n",
       "      <td>15</td>\n",
       "      <td>4</td>\n",
       "      <td>42</td>\n",
       "      <td>45</td>\n",
       "      <td>4</td>\n",
       "      <td>6</td>\n",
       "      <td>17</td>\n",
       "      <td>0</td>\n",
       "      <td>27</td>\n",
       "    </tr>\n",
       "  </tbody>\n",
       "</table>\n",
       "</div>"
      ],
      "text/plain": [
       "Attribute4  A40  A41  A410  A42  A43  A44  A45  A46  A48  A49\n",
       "class                                                        \n",
       "1           100   52     7   86  152    5   10   22    5   39\n",
       "2            62   15     4   42   45    4    6   17    0   27"
      ]
     },
     "execution_count": 14,
     "metadata": {},
     "output_type": "execute_result"
    }
   ],
   "source": [
    "pd.crosstab(index = y_train, columns = X_train[\"Attribute4\"])"
   ]
  },
  {
   "cell_type": "markdown",
   "id": "749a0f35-1f94-4573-9ffb-bacd33815e8b",
   "metadata": {},
   "source": [
    "There is a problem with A48 (purpose of credit is for \"retraining\"), as there was no observations with this attribute that was given a bad credit rating. Since A410 (purpose of credit is \"other\") already captures consolidates other attributes, A48 will be combined with A410 to eliminate this covergence problem."
   ]
  },
  {
   "cell_type": "code",
   "execution_count": 15,
   "id": "0694cf1b-fcff-4f4c-93a3-e728b0e5357e",
   "metadata": {},
   "outputs": [
    {
     "data": {
      "text/html": [
       "<div>\n",
       "<style scoped>\n",
       "    .dataframe tbody tr th:only-of-type {\n",
       "        vertical-align: middle;\n",
       "    }\n",
       "\n",
       "    .dataframe tbody tr th {\n",
       "        vertical-align: top;\n",
       "    }\n",
       "\n",
       "    .dataframe thead th {\n",
       "        text-align: right;\n",
       "    }\n",
       "</style>\n",
       "<table border=\"1\" class=\"dataframe\">\n",
       "  <thead>\n",
       "    <tr style=\"text-align: right;\">\n",
       "      <th>Attribute4</th>\n",
       "      <th>A40</th>\n",
       "      <th>A41</th>\n",
       "      <th>A410</th>\n",
       "      <th>A42</th>\n",
       "      <th>A43</th>\n",
       "      <th>A44</th>\n",
       "      <th>A45</th>\n",
       "      <th>A46</th>\n",
       "      <th>A49</th>\n",
       "    </tr>\n",
       "    <tr>\n",
       "      <th>class</th>\n",
       "      <th></th>\n",
       "      <th></th>\n",
       "      <th></th>\n",
       "      <th></th>\n",
       "      <th></th>\n",
       "      <th></th>\n",
       "      <th></th>\n",
       "      <th></th>\n",
       "      <th></th>\n",
       "    </tr>\n",
       "  </thead>\n",
       "  <tbody>\n",
       "    <tr>\n",
       "      <th>1</th>\n",
       "      <td>100</td>\n",
       "      <td>52</td>\n",
       "      <td>12</td>\n",
       "      <td>86</td>\n",
       "      <td>152</td>\n",
       "      <td>5</td>\n",
       "      <td>10</td>\n",
       "      <td>22</td>\n",
       "      <td>39</td>\n",
       "    </tr>\n",
       "    <tr>\n",
       "      <th>2</th>\n",
       "      <td>62</td>\n",
       "      <td>15</td>\n",
       "      <td>4</td>\n",
       "      <td>42</td>\n",
       "      <td>45</td>\n",
       "      <td>4</td>\n",
       "      <td>6</td>\n",
       "      <td>17</td>\n",
       "      <td>27</td>\n",
       "    </tr>\n",
       "  </tbody>\n",
       "</table>\n",
       "</div>"
      ],
      "text/plain": [
       "Attribute4  A40  A41  A410  A42  A43  A44  A45  A46  A49\n",
       "class                                                   \n",
       "1           100   52    12   86  152    5   10   22   39\n",
       "2            62   15     4   42   45    4    6   17   27"
      ]
     },
     "execution_count": 15,
     "metadata": {},
     "output_type": "execute_result"
    }
   ],
   "source": [
    "X_train[\"Attribute4\"] = [\"A410\" if x == \"A48\" else x for x in X_train[\"Attribute4\"]]\n",
    "\n",
    "pd.crosstab(index = y_train, columns = X_train[\"Attribute4\"])"
   ]
  },
  {
   "cell_type": "code",
   "execution_count": 16,
   "id": "01691c2b-4d3e-4ec9-8311-1e5bf9d8a07c",
   "metadata": {},
   "outputs": [
    {
     "data": {
      "text/html": [
       "<div>\n",
       "<style scoped>\n",
       "    .dataframe tbody tr th:only-of-type {\n",
       "        vertical-align: middle;\n",
       "    }\n",
       "\n",
       "    .dataframe tbody tr th {\n",
       "        vertical-align: top;\n",
       "    }\n",
       "\n",
       "    .dataframe thead th {\n",
       "        text-align: right;\n",
       "    }\n",
       "</style>\n",
       "<table border=\"1\" class=\"dataframe\">\n",
       "  <thead>\n",
       "    <tr style=\"text-align: right;\">\n",
       "      <th>Attribute16</th>\n",
       "      <th>1</th>\n",
       "      <th>2</th>\n",
       "      <th>3</th>\n",
       "      <th>4</th>\n",
       "    </tr>\n",
       "    <tr>\n",
       "      <th>class</th>\n",
       "      <th></th>\n",
       "      <th></th>\n",
       "      <th></th>\n",
       "      <th></th>\n",
       "    </tr>\n",
       "  </thead>\n",
       "  <tbody>\n",
       "    <tr>\n",
       "      <th>1</th>\n",
       "      <td>295</td>\n",
       "      <td>168</td>\n",
       "      <td>14</td>\n",
       "      <td>1</td>\n",
       "    </tr>\n",
       "    <tr>\n",
       "      <th>2</th>\n",
       "      <td>152</td>\n",
       "      <td>66</td>\n",
       "      <td>4</td>\n",
       "      <td>0</td>\n",
       "    </tr>\n",
       "  </tbody>\n",
       "</table>\n",
       "</div>"
      ],
      "text/plain": [
       "Attribute16    1    2   3  4\n",
       "class                       \n",
       "1            295  168  14  1\n",
       "2            152   66   4  0"
      ]
     },
     "execution_count": 16,
     "metadata": {},
     "output_type": "execute_result"
    }
   ],
   "source": [
    "pd.crosstab(index = y_train, columns = X_train[\"Attribute16\"])"
   ]
  },
  {
   "cell_type": "markdown",
   "id": "fb46e682-4f25-488a-a6af-549789d83cca",
   "metadata": {},
   "source": [
    "Attribute16 refers to the number of existing credits at the bank. Since it is ordinal, the levels will be collapsed to 1, 2, and 3+, with 3+ containing information for both 3 and 4"
   ]
  },
  {
   "cell_type": "code",
   "execution_count": 17,
   "id": "df92ecfa-3a7d-4064-aee7-046dce66e347",
   "metadata": {},
   "outputs": [
    {
     "data": {
      "text/html": [
       "<div>\n",
       "<style scoped>\n",
       "    .dataframe tbody tr th:only-of-type {\n",
       "        vertical-align: middle;\n",
       "    }\n",
       "\n",
       "    .dataframe tbody tr th {\n",
       "        vertical-align: top;\n",
       "    }\n",
       "\n",
       "    .dataframe thead th {\n",
       "        text-align: right;\n",
       "    }\n",
       "</style>\n",
       "<table border=\"1\" class=\"dataframe\">\n",
       "  <thead>\n",
       "    <tr style=\"text-align: right;\">\n",
       "      <th>Attribute16</th>\n",
       "      <th>1</th>\n",
       "      <th>2</th>\n",
       "      <th>3</th>\n",
       "    </tr>\n",
       "    <tr>\n",
       "      <th>class</th>\n",
       "      <th></th>\n",
       "      <th></th>\n",
       "      <th></th>\n",
       "    </tr>\n",
       "  </thead>\n",
       "  <tbody>\n",
       "    <tr>\n",
       "      <th>1</th>\n",
       "      <td>295</td>\n",
       "      <td>168</td>\n",
       "      <td>15</td>\n",
       "    </tr>\n",
       "    <tr>\n",
       "      <th>2</th>\n",
       "      <td>152</td>\n",
       "      <td>66</td>\n",
       "      <td>4</td>\n",
       "    </tr>\n",
       "  </tbody>\n",
       "</table>\n",
       "</div>"
      ],
      "text/plain": [
       "Attribute16    1    2   3\n",
       "class                    \n",
       "1            295  168  15\n",
       "2            152   66   4"
      ]
     },
     "execution_count": 17,
     "metadata": {},
     "output_type": "execute_result"
    }
   ],
   "source": [
    "X_train[\"Attribute16\"] = [3 if x >= 3 else x for x in X_train[\"Attribute16\"]]\n",
    "\n",
    "pd.crosstab(index = y_train, columns = X_train[\"Attribute16\"])"
   ]
  },
  {
   "cell_type": "markdown",
   "id": "2adb2557-09a9-4e13-85a2-6d99f4a5c47b",
   "metadata": {},
   "source": [
    "## Categorical Variables"
   ]
  },
  {
   "cell_type": "markdown",
   "id": "17ba2fee-8ee6-4210-a824-518cdf65f4e3",
   "metadata": {
    "tags": []
   },
   "source": [
    "### Check Significance"
   ]
  },
  {
   "cell_type": "markdown",
   "id": "f1bbc0d3-aa1f-4aff-8b92-bd3537bbfbdf",
   "metadata": {},
   "source": [
    "Check significance between categorical variables and the target variable"
   ]
  },
  {
   "cell_type": "code",
   "execution_count": 19,
   "id": "21830889-e7cd-4200-97f1-ed3ec906e1a3",
   "metadata": {},
   "outputs": [
    {
     "data": {
      "text/html": [
       "<div>\n",
       "<style scoped>\n",
       "    .dataframe tbody tr th:only-of-type {\n",
       "        vertical-align: middle;\n",
       "    }\n",
       "\n",
       "    .dataframe tbody tr th {\n",
       "        vertical-align: top;\n",
       "    }\n",
       "\n",
       "    .dataframe thead th {\n",
       "        text-align: right;\n",
       "    }\n",
       "</style>\n",
       "<table border=\"1\" class=\"dataframe\">\n",
       "  <thead>\n",
       "    <tr style=\"text-align: right;\">\n",
       "      <th></th>\n",
       "      <th>0</th>\n",
       "      <th>1</th>\n",
       "      <th>2</th>\n",
       "      <th>3</th>\n",
       "      <th>4</th>\n",
       "      <th>5</th>\n",
       "      <th>6</th>\n",
       "      <th>7</th>\n",
       "      <th>8</th>\n",
       "      <th>9</th>\n",
       "      <th>10</th>\n",
       "      <th>11</th>\n",
       "      <th>12</th>\n",
       "      <th>13</th>\n",
       "      <th>14</th>\n",
       "      <th>15</th>\n",
       "      <th>16</th>\n",
       "    </tr>\n",
       "  </thead>\n",
       "  <tbody>\n",
       "    <tr>\n",
       "      <th>Variable Name</th>\n",
       "      <td>Attribute1</td>\n",
       "      <td>Attribute3</td>\n",
       "      <td>Attribute4</td>\n",
       "      <td>Attribute6</td>\n",
       "      <td>Attribute7</td>\n",
       "      <td>Attribute9</td>\n",
       "      <td>Attribute10</td>\n",
       "      <td>Attribute12</td>\n",
       "      <td>Attribute14</td>\n",
       "      <td>Attribute15</td>\n",
       "      <td>Attribute17</td>\n",
       "      <td>Attribute19</td>\n",
       "      <td>Attribute20</td>\n",
       "      <td>Attribute8</td>\n",
       "      <td>Attribute11</td>\n",
       "      <td>Attribute16</td>\n",
       "      <td>Attribute18</td>\n",
       "    </tr>\n",
       "    <tr>\n",
       "      <th>P-Value</th>\n",
       "      <td>0.0</td>\n",
       "      <td>0.0</td>\n",
       "      <td>0.012365</td>\n",
       "      <td>0.005251</td>\n",
       "      <td>0.022729</td>\n",
       "      <td>0.055593</td>\n",
       "      <td>0.114209</td>\n",
       "      <td>0.01368</td>\n",
       "      <td>0.000907</td>\n",
       "      <td>0.013535</td>\n",
       "      <td>0.657785</td>\n",
       "      <td>0.181946</td>\n",
       "      <td>0.028937</td>\n",
       "      <td>0.116673</td>\n",
       "      <td>0.93176</td>\n",
       "      <td>0.181732</td>\n",
       "      <td>0.989774</td>\n",
       "    </tr>\n",
       "  </tbody>\n",
       "</table>\n",
       "</div>"
      ],
      "text/plain": [
       "                       0           1           2           3           4   \\\n",
       "Variable Name  Attribute1  Attribute3  Attribute4  Attribute6  Attribute7   \n",
       "P-Value               0.0         0.0    0.012365    0.005251    0.022729   \n",
       "\n",
       "                       5            6            7            8            9   \\\n",
       "Variable Name  Attribute9  Attribute10  Attribute12  Attribute14  Attribute15   \n",
       "P-Value          0.055593     0.114209      0.01368     0.000907     0.013535   \n",
       "\n",
       "                        10           11           12          13           14  \\\n",
       "Variable Name  Attribute17  Attribute19  Attribute20  Attribute8  Attribute11   \n",
       "P-Value           0.657785     0.181946     0.028937    0.116673      0.93176   \n",
       "\n",
       "                        15           16  \n",
       "Variable Name  Attribute16  Attribute18  \n",
       "P-Value           0.181732     0.989774  "
      ]
     },
     "execution_count": 19,
     "metadata": {},
     "output_type": "execute_result"
    }
   ],
   "source": [
    "#cat_significance = pd.DataFrame()\n",
    "cat_sig_list = []\n",
    "for i in categorical_features:\n",
    "    cat_sig_list.append(chi2_contingency(pd.crosstab(index = X_train[i], columns = y_train), correction = True)[1])\n",
    "    \n",
    "cat_significance = pd.DataFrame(data = [categorical_features, cat_sig_list], index = [\"Variable Name\", \"P-Value\"])\n",
    "cat_significance"
   ]
  },
  {
   "cell_type": "markdown",
   "id": "b2e65926-332c-44c1-821a-decbf8ec4977",
   "metadata": {},
   "source": [
    "It looks like Attributes 9, 10, 17, 19, 8, 11, and 18 do not have a significant association at a significance level of 5%. These variables will not be used for the logisic regression model"
   ]
  },
  {
   "cell_type": "markdown",
   "id": "dadef9d9-b3b3-44b9-8119-9a4e8cb36ae7",
   "metadata": {
    "tags": []
   },
   "source": [
    "## Continuous Variables"
   ]
  },
  {
   "cell_type": "markdown",
   "id": "1f619579-37ed-4b01-b7d9-943abe7c074a",
   "metadata": {},
   "source": [
    "### Linearity Assumption"
   ]
  },
  {
   "cell_type": "code",
   "execution_count": null,
   "id": "e440926a-56cb-4ed8-a8b5-bbab6c822423",
   "metadata": {},
   "outputs": [],
   "source": []
  },
  {
   "cell_type": "code",
   "execution_count": null,
   "id": "970932b7-064a-4c67-8773-1c23b952760f",
   "metadata": {},
   "outputs": [],
   "source": []
  },
  {
   "cell_type": "markdown",
   "id": "6c842ab4-038f-4ecf-b18b-5cc3c10f7c17",
   "metadata": {},
   "source": [
    "### Check Significance"
   ]
  },
  {
   "cell_type": "code",
   "execution_count": null,
   "id": "51645469-5b7a-4e62-aa9a-dbba59accbb2",
   "metadata": {},
   "outputs": [],
   "source": []
  },
  {
   "cell_type": "code",
   "execution_count": null,
   "id": "3cd19c77-8fef-4d14-a71b-7a52aa29f944",
   "metadata": {},
   "outputs": [],
   "source": []
  },
  {
   "cell_type": "markdown",
   "id": "383c4bfe-f338-4f8e-8c5d-23c39ad966dd",
   "metadata": {},
   "source": [
    "### Multi-Colinearity"
   ]
  },
  {
   "cell_type": "markdown",
   "id": "750eeeb3-6e53-4485-8752-e6ff83d5f782",
   "metadata": {},
   "source": [
    "#### Correlation Matrix"
   ]
  },
  {
   "cell_type": "code",
   "execution_count": 21,
   "id": "e2d627db-8b43-4d6a-8c3c-1deb7ccd5024",
   "metadata": {},
   "outputs": [
    {
     "data": {
      "text/plain": [
       "['Attribute2', 'Attribute5', 'Attribute13']"
      ]
     },
     "execution_count": 21,
     "metadata": {},
     "output_type": "execute_result"
    }
   ],
   "source": [
    "numeric_features"
   ]
  },
  {
   "cell_type": "code",
   "execution_count": 20,
   "id": "64fa1a2b-42c6-4411-a4a3-a98bd2fc6337",
   "metadata": {},
   "outputs": [
    {
     "name": "stdout",
     "output_type": "stream",
     "text": [
      "[[ 1.          0.63363014 -0.02037722]\n",
      " [ 0.63363014  1.          0.03004227]\n",
      " [-0.02037722  0.03004227  1.        ]]\n"
     ]
    }
   ],
   "source": [
    "print(np.corrcoef(X_train[numeric_features], rowvar = False))"
   ]
  },
  {
   "cell_type": "code",
   "execution_count": 26,
   "id": "0da65cfe-f94a-4f4f-8903-ff2e6a7e16b9",
   "metadata": {},
   "outputs": [
    {
     "data": {
      "image/png": "[encoded data removed]",
      "text/plain": [
       "<Figure size 750x750 with 12 Axes>"
      ]
     },
     "metadata": {},
     "output_type": "display_data"
    }
   ],
   "source": [
    "ax = sns.pairplot(data = X_train[numeric_features])\n",
    "plt.show()"
   ]
  },
  {
   "cell_type": "markdown",
   "id": "c193771c-2a2b-45c1-9ef1-b82ebe51ef85",
   "metadata": {},
   "source": [
    "Statistical test for Correlation"
   ]
  },
  {
   "cell_type": "code",
   "execution_count": 25,
   "id": "2a833605-68eb-4127-8111-b39ab5966ec0",
   "metadata": {},
   "outputs": [
    {
     "data": {
      "text/plain": [
       "PearsonRResult(statistic=0.6336301396278662, pvalue=7.511802738214598e-80)"
      ]
     },
     "execution_count": 25,
     "metadata": {},
     "output_type": "execute_result"
    }
   ],
   "source": [
    "sp.stats.pearsonr(X_train['Attribute2'], X_train['Attribute5'])"
   ]
  },
  {
   "cell_type": "markdown",
   "id": "d61cfb9e-f9e5-4c7c-9701-2c4623a1be13",
   "metadata": {},
   "source": [
    "#### VIF"
   ]
  },
  {
   "cell_type": "code",
   "execution_count": null,
   "id": "0e364029-3295-4ee4-a34d-4e4c09d04fbd",
   "metadata": {},
   "outputs": [],
   "source": [
    "X = X_train.assign(const = 1)\n",
    "\n",
    "vif = pd.DataFrame()\n",
    "vif['VIF'] = [sm.stats.outliers_influence.variance_inflation_factor(X.values, i) for i in range(X.shape[1])]\n",
    "vif['variable'] = X.columns\n",
    "\n",
    "print(vif)"
   ]
  },
  {
   "cell_type": "markdown",
   "id": "vqs1HJmHNDbi",
   "metadata": {
    "id": "vqs1HJmHNDbi"
   },
   "source": [
    "# Modeling"
   ]
  },
  {
   "cell_type": "markdown",
   "id": "07db5925-3771-4052-b218-20f39406496e",
   "metadata": {
    "id": "3F3cuChGMvqk"
   },
   "source": [
    "## Logistic Regression"
   ]
  },
  {
   "cell_type": "markdown",
   "id": "bc4aff57-fcac-42ba-a3fa-ab115ca9894a",
   "metadata": {
    "id": "132b1bb8-f535-4e0d-b566-a85d2988ddda"
   },
   "source": [
    "### Assumptions"
   ]
  },
  {
   "cell_type": "markdown",
   "id": "670c8618-cd1e-4eb1-97af-acda7b9e5dd8",
   "metadata": {},
   "source": [
    "Continuous predictor variables are linearly related to the logit function (transformation of the probability of target variable)"
   ]
  },
  {
   "cell_type": "code",
   "execution_count": null,
   "id": "fe915815-b8ec-412a-9e5a-0fff1f4f6434",
   "metadata": {},
   "outputs": [],
   "source": []
  },
  {
   "cell_type": "markdown",
   "id": "3d393ce1-db75-4fd4-ac76-3f3822c629a1",
   "metadata": {
    "id": "094e9260-2808-4243-b98e-c61d2fb59013",
    "outputId": "749127d0-af4a-455f-c116-7d8209c79b01"
   },
   "source": [
    "### Transformations"
   ]
  },
  {
   "cell_type": "markdown",
   "id": "eff41394-bdeb-48ec-999a-7a8551e0bd3d",
   "metadata": {},
   "source": [
    "### Model Pipeline"
   ]
  },
  {
   "cell_type": "markdown",
   "id": "613d3668-3127-479a-b242-cc4b37ac51b3",
   "metadata": {},
   "source": [
    "### Run Model"
   ]
  },
  {
   "cell_type": "code",
   "execution_count": null,
   "id": "bec5bd24-eab7-4df3-b446-c0d67e58f0ec",
   "metadata": {},
   "outputs": [],
   "source": [
    "log_model = GLM.from_formula('Bonus ~ Gr_Liv_Area + C(Central_Air)', data = train, family = Binomial()).fit()\n",
    "log_model.summary()"
   ]
  },
  {
   "cell_type": "markdown",
   "id": "bee129ba-b275-4ba9-ac21-fc408788d2ce",
   "metadata": {},
   "source": [
    "### Model Metrics"
   ]
  },
  {
   "cell_type": "code",
   "execution_count": null,
   "id": "ebf1606f-7dd7-4400-8b5e-128ad209e99d",
   "metadata": {},
   "outputs": [],
   "source": []
  },
  {
   "cell_type": "code",
   "execution_count": null,
   "id": "650104af-7e26-4a4e-bcd8-3a8e336f2901",
   "metadata": {},
   "outputs": [],
   "source": []
  },
  {
   "cell_type": "code",
   "execution_count": null,
   "id": "05feef0f-6854-4bd4-aeed-66cbb57591fd",
   "metadata": {},
   "outputs": [],
   "source": []
  },
  {
   "cell_type": "code",
   "execution_count": null,
   "id": "a029986f-82d6-4c51-bad9-bbb26e26a242",
   "metadata": {},
   "outputs": [],
   "source": []
  },
  {
   "cell_type": "code",
   "execution_count": null,
   "id": "26a45fdf-6498-404e-bff3-a14f824fb9e3",
   "metadata": {},
   "outputs": [],
   "source": []
  },
  {
   "cell_type": "code",
   "execution_count": null,
   "id": "f638dc32-f37e-4953-aae5-3a8400646228",
   "metadata": {
    "id": "f638dc32-f37e-4953-aae5-3a8400646228",
    "outputId": "9afb6035-af67-498b-b727-7455069b7012"
   },
   "outputs": [],
   "source": [
    "X.head(10)"
   ]
  },
  {
   "cell_type": "code",
   "execution_count": null,
   "id": "44558a20-1506-4c09-bb9d-4b07261ef9dd",
   "metadata": {
    "id": "44558a20-1506-4c09-bb9d-4b07261ef9dd",
    "outputId": "d97c4d2a-1f50-4241-b940-15c37e8331e0"
   },
   "outputs": [],
   "source": [
    "y.head(10)"
   ]
  },
  {
   "cell_type": "code",
   "execution_count": null,
   "id": "0301b17d-a917-4c0a-9380-6d562fcaf37a",
   "metadata": {
    "id": "0301b17d-a917-4c0a-9380-6d562fcaf37a"
   },
   "outputs": [],
   "source": []
  },
  {
   "cell_type": "code",
   "execution_count": null,
   "id": "aedfde17-b8b9-4702-b4d7-a0b208b8425b",
   "metadata": {
    "id": "aedfde17-b8b9-4702-b4d7-a0b208b8425b"
   },
   "outputs": [],
   "source": []
  },
  {
   "cell_type": "code",
   "execution_count": null,
   "id": "13f67939-cb73-4170-873e-e0c3d70f470b",
   "metadata": {
    "id": "13f67939-cb73-4170-873e-e0c3d70f470b"
   },
   "outputs": [],
   "source": []
  },
  {
   "cell_type": "code",
   "execution_count": null,
   "id": "f0d8ddec-5354-4d84-a08c-f7d8bd492ded",
   "metadata": {
    "id": "f0d8ddec-5354-4d84-a08c-f7d8bd492ded",
    "outputId": "41205ca6-4616-4e9c-e6fc-4bde8842b323"
   },
   "outputs": [],
   "source": [
    "ax = sns.countplot(x = \"Attribute1\", data = df, color = \"blue\")\n",
    "ax.set(xlabel = 'Bonus Eligible',\n",
    "       ylabel = 'Frequency',\n",
    "       title = 'Bar Graph of Bonus Eligibility')\n",
    "plt.show()"
   ]
  },
  {
   "cell_type": "code",
   "execution_count": null,
   "id": "899d4cee-f369-450c-b124-176639410f8a",
   "metadata": {
    "colab": {
     "referenced_widgets": [
      "22bddefc283148a295454e4adb23ae1e"
     ]
    },
    "id": "899d4cee-f369-450c-b124-176639410f8a",
    "outputId": "33733752-2877-4089-cc35-a535752e035e"
   },
   "outputs": [],
   "source": [
    "my_report = sv.analyze(df, target_feat = \"class)\n",
    "my_report.show_html()"
   ]
  },
  {
   "cell_type": "code",
   "execution_count": null,
   "id": "88149e35-c661-41d5-ab62-54625c46ab60",
   "metadata": {
    "id": "88149e35-c661-41d5-ab62-54625c46ab60"
   },
   "outputs": [],
   "source": [
    "\n",
    "\n"
   ]
  },
  {
   "cell_type": "code",
   "execution_count": null,
   "id": "8e542c9e-df80-4b0e-8a7b-3bf2b0d9eda1",
   "metadata": {
    "id": "8e542c9e-df80-4b0e-8a7b-3bf2b0d9eda1"
   },
   "outputs": [],
   "source": []
  },
  {
   "cell_type": "code",
   "execution_count": null,
   "id": "fcd5ef05-c80c-4413-8a81-e4884c62e65c",
   "metadata": {
    "id": "fcd5ef05-c80c-4413-8a81-e4884c62e65c"
   },
   "outputs": [],
   "source": []
  },
  {
   "cell_type": "code",
   "execution_count": null,
   "id": "c444b935-a6fe-40ab-9fb5-65ab623c7bd2",
   "metadata": {
    "id": "c444b935-a6fe-40ab-9fb5-65ab623c7bd2"
   },
   "outputs": [],
   "source": []
  },
  {
   "cell_type": "code",
   "execution_count": null,
   "id": "1619d3c5-cd2a-49dd-a78f-7cf676a00827",
   "metadata": {
    "id": "1619d3c5-cd2a-49dd-a78f-7cf676a00827"
   },
   "outputs": [],
   "source": []
  },
  {
   "cell_type": "code",
   "execution_count": null,
   "id": "d1c7c999-94fd-4f45-b387-6786b2496aa6",
   "metadata": {
    "id": "d1c7c999-94fd-4f45-b387-6786b2496aa6"
   },
   "outputs": [],
   "source": []
  },
  {
   "cell_type": "code",
   "execution_count": null,
   "id": "d29ac7b8-34df-4861-8024-81f26f02f642",
   "metadata": {
    "id": "d29ac7b8-34df-4861-8024-81f26f02f642"
   },
   "outputs": [],
   "source": []
  },
  {
   "cell_type": "code",
   "execution_count": null,
   "id": "9e2b0bba-aaf3-443f-ba1f-998cd4fce63e",
   "metadata": {
    "id": "9e2b0bba-aaf3-443f-ba1f-998cd4fce63e"
   },
   "outputs": [],
   "source": []
  }
 ],
 "metadata": {
  "colab": {
   "provenance": []
  },
  "kernelspec": {
   "display_name": "Python 3 (ipykernel)",
   "language": "python",
   "name": "python3"
  },
  "language_info": {
   "codemirror_mode": {
    "name": "ipython",
    "version": 3
   },
   "file_extension": ".py",
   "mimetype": "text/x-python",
   "name": "python",
   "nbconvert_exporter": "python",
   "pygments_lexer": "ipython3",
   "version": "3.9.12"
  }
 },
 "nbformat": 4,
 "nbformat_minor": 5
}
